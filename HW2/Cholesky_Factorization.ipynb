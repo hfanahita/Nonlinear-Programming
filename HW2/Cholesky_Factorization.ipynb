{
  "nbformat": 4,
  "nbformat_minor": 0,
  "metadata": {
    "colab": {
      "provenance": []
    },
    "kernelspec": {
      "name": "python3",
      "display_name": "Python 3"
    },
    "language_info": {
      "name": "python"
    }
  },
  "cells": [
    {
      "cell_type": "code",
      "execution_count": 82,
      "metadata": {
        "id": "dc1Mg0D5o0Z3"
      },
      "outputs": [],
      "source": [
        "import numpy as np"
      ]
    },
    {
      "cell_type": "code",
      "source": [
        "#print\n",
        "def print_A(A_11, A_12, A_21, A_22):\n",
        "  print(\"A_11: \", A_11)\n",
        "  print(\"--------------------\")\n",
        "  print(\"A_12: \", A_12)\n",
        "  print(\"--------------------\")\n",
        "  print(\"A_21: \", A_21)\n",
        "  print(\"--------------------\")\n",
        "  print(\"A_22: \")\n",
        "  print(np.array2string(A_22, separator=', '))\n",
        "  print(\"--------------------\")"
      ],
      "metadata": {
        "id": "Q9UTLe-joBQF"
      },
      "execution_count": 83,
      "outputs": []
    },
    {
      "cell_type": "code",
      "source": [
        "def choleskyFactorization(A):\n",
        "  n = A.shape[0]\n",
        "  L = np.zeros((n,n))\n",
        "  A_11 = A[0][0]\n",
        "  if A_11 < 0:\n",
        "    print(\"Cholesky Factorization is not possible! The given matrix is not positive definite!\")\n",
        "  L_11 = np.sqrt(A_11)\n",
        "  if n == 1:\n",
        "    return L_11\n",
        "  A_12 = A[0,1:]\n",
        "  A_21 = A[1:,0]\n",
        "  A_22 = A[1:,1:]\n",
        "  print_A(A_11,A_12,A_21,A_22)\n",
        "  L_21 = 1/L_11*(np.transpose(A_12))\n",
        "  # print(\"L_11: \", L_11)\n",
        "  # print(\"L_21: \", L_21)\n",
        "  L_22 = L[1:,1:]\n",
        "  B = A_22-L_21*np.transpose(L_21)\n",
        "  # print(\"B: \", B)\n",
        "  if B.shape[0] > 1:\n",
        "    L_22 = choleskyFactorization(B)\n",
        "  else:\n",
        "    L_22 = np.sqrt(B)\n",
        "  L[0][0] = L_11\n",
        "  L[1:,0] = L_21\n",
        "  L[1:,1:] = L_22\n",
        "  print(\"L: \")\n",
        "  print(np.array2string(L, separator=', '))\n",
        "  print(\"--------------------\")\n",
        "  return L"
      ],
      "metadata": {
        "id": "FfbLDkz6o62D"
      },
      "execution_count": 84,
      "outputs": []
    },
    {
      "cell_type": "code",
      "source": [
        "A = np.array([[9, 3, 3],\n",
        "              [3, 17, 21],\n",
        "              [3, 21, 107]])\n",
        "choleskyFactorization(A)"
      ],
      "metadata": {
        "colab": {
          "base_uri": "https://localhost:8080/"
        },
        "id": "OW9NVfPb8tbn",
        "outputId": "84fe010f-06ad-4678-84c1-cd01a196e05d"
      },
      "execution_count": 85,
      "outputs": [
        {
          "output_type": "stream",
          "name": "stdout",
          "text": [
            "A_11:  9\n",
            "--------------------\n",
            "A_12:  [3 3]\n",
            "--------------------\n",
            "A_21:  [3 3]\n",
            "--------------------\n",
            "A_22: \n",
            "[[ 17,  21],\n",
            " [ 21, 107]]\n",
            "--------------------\n",
            "A_11:  16.0\n",
            "--------------------\n",
            "A_12:  [20.]\n",
            "--------------------\n",
            "A_21:  [20.]\n",
            "--------------------\n",
            "A_22: \n",
            "[[106.]]\n",
            "--------------------\n",
            "L: \n",
            "[[4., 0.],\n",
            " [5., 9.]]\n",
            "--------------------\n",
            "L: \n",
            "[[3., 0., 0.],\n",
            " [1., 4., 0.],\n",
            " [1., 5., 9.]]\n",
            "--------------------\n"
          ]
        },
        {
          "output_type": "execute_result",
          "data": {
            "text/plain": [
              "array([[3., 0., 0.],\n",
              "       [1., 4., 0.],\n",
              "       [1., 5., 9.]])"
            ]
          },
          "metadata": {},
          "execution_count": 85
        }
      ]
    },
    {
      "cell_type": "code",
      "source": [
        "def solveEquation(A, b):\n",
        "  n = A.shape[0]\n",
        "  # A = LL^T\n",
        "  L = choleskyFactorization(A)\n",
        "  #Lu=b\n",
        "  u = np.zeros(n)\n",
        "  #forward substitution\n",
        "  for i in range(n):\n",
        "    u[i] = b[i]\n",
        "    for j in range(i):\n",
        "      u[i] -= L[i][j]*u[j]\n",
        "    u[i] = u[i]/L[i][i]\n",
        "  print(\"u = \", u)\n",
        "  print(\"--------------------\")\n",
        "  # L^Tx = u\n",
        "  L_T = np.transpose(L)\n",
        "  x = np.zeros(n)\n",
        "  # backward substitution\n",
        "  for i in range(n-1,-1,-1):\n",
        "    x[i] = u[i]\n",
        "    for j in range(n-1,i,-1):\n",
        "      x[i] -= L_T[i][j]*x[j]\n",
        "    x[i] = x[i]/L_T[i][i]\n",
        "  return x"
      ],
      "metadata": {
        "id": "sSa-KgmAo9MA"
      },
      "execution_count": 92,
      "outputs": []
    },
    {
      "cell_type": "code",
      "source": [
        "A = np.array([[1, 1, 1],\n",
        "                [1, 1.001, 1.001],\n",
        "                [1, 1.001, 2]])\n",
        "b = np.array([3, 3.0030, 4.0010])\n",
        "print(\"x = \", solveEquation(A,b))"
      ],
      "metadata": {
        "colab": {
          "base_uri": "https://localhost:8080/"
        },
        "id": "gLKwOnApf3U0",
        "outputId": "e4397579-52ea-426b-ae3d-582a2e32e966"
      },
      "execution_count": 93,
      "outputs": [
        {
          "output_type": "stream",
          "name": "stdout",
          "text": [
            "A_11:  1.0\n",
            "--------------------\n",
            "A_12:  [1. 1.]\n",
            "--------------------\n",
            "A_21:  [1. 1.]\n",
            "--------------------\n",
            "A_22: \n",
            "[[1.001, 1.001],\n",
            " [1.001, 2.   ]]\n",
            "--------------------\n",
            "A_11:  0.0009999999999998899\n",
            "--------------------\n",
            "A_12:  [0.001]\n",
            "--------------------\n",
            "A_21:  [0.001]\n",
            "--------------------\n",
            "A_22: \n",
            "[[1.]]\n",
            "--------------------\n",
            "L: \n",
            "[[0.03162278, 0.        ],\n",
            " [0.03162278, 0.99949987]]\n",
            "--------------------\n",
            "L: \n",
            "[[1.        , 0.        , 0.        ],\n",
            " [1.        , 0.03162278, 0.        ],\n",
            " [1.        , 0.03162278, 0.99949987]]\n",
            "--------------------\n",
            "u =  [3.         0.09486833 0.99849937]\n",
            "--------------------\n",
            "x =  [-4.44533299e-13  2.00100100e+00  9.98998999e-01]\n"
          ]
        }
      ]
    },
    {
      "cell_type": "code",
      "source": [
        "def MSE(H) -> int:\n",
        "  # an MSE error calculator for the result and  numpy.linalg.cholesky result.\n",
        "  L_np = np.linalg.cholesky(H)\n",
        "  L = choleskyFactorization(H)\n",
        "  n = L.shape[0]\n",
        "  squared_err = 0\n",
        "  for i in range(n):\n",
        "    for j in range(i):\n",
        "      squared_err += (L[i][j] - L_np[i][j])**2\n",
        "  number_of_nonzero_elements = n*(n+1)/2\n",
        "  mse = squared_err/number_of_nonzero_elements\n",
        "  return mse"
      ],
      "metadata": {
        "id": "Vle-kHPJpAwv"
      },
      "execution_count": 94,
      "outputs": []
    },
    {
      "cell_type": "code",
      "source": [
        "print(\"MSE = \", MSE(A))"
      ],
      "metadata": {
        "colab": {
          "base_uri": "https://localhost:8080/"
        },
        "id": "5EybGHAak_7a",
        "outputId": "f63f0901-b294-4884-fa4d-5376f052e474"
      },
      "execution_count": 95,
      "outputs": [
        {
          "output_type": "stream",
          "name": "stdout",
          "text": [
            "A_11:  1.0\n",
            "--------------------\n",
            "A_12:  [1. 1.]\n",
            "--------------------\n",
            "A_21:  [1. 1.]\n",
            "--------------------\n",
            "A_22: \n",
            "[[1.001, 1.001],\n",
            " [1.001, 2.   ]]\n",
            "--------------------\n",
            "A_11:  0.0009999999999998899\n",
            "--------------------\n",
            "A_12:  [0.001]\n",
            "--------------------\n",
            "A_21:  [0.001]\n",
            "--------------------\n",
            "A_22: \n",
            "[[1.]]\n",
            "--------------------\n",
            "L: \n",
            "[[0.03162278, 0.        ],\n",
            " [0.03162278, 0.99949987]]\n",
            "--------------------\n",
            "L: \n",
            "[[1.        , 0.        , 0.        ],\n",
            " [1.        , 0.03162278, 0.        ],\n",
            " [1.        , 0.03162278, 0.99949987]]\n",
            "--------------------\n",
            "MSE =  0.0\n"
          ]
        }
      ]
    }
  ]
}